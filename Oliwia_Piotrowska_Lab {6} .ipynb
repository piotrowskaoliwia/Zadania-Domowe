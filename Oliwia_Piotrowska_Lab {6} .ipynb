{
  "nbformat": 4,
  "nbformat_minor": 0,
  "metadata": {
    "colab": {
      "name": "Witamy w Colaboratory",
      "provenance": [],
      "collapsed_sections": [],
      "toc_visible": true,
      "include_colab_link": true
    },
    "kernelspec": {
      "display_name": "Python 3",
      "name": "python3"
    }
  },
  "cells": [
    {
      "cell_type": "markdown",
      "metadata": {
        "id": "view-in-github",
        "colab_type": "text"
      },
      "source": [
        "<a href=\"https://colab.research.google.com/github/piotrowskaoliwia/Zadania-Domowe/blob/main/Oliwia_Piotrowska_Lab%20%7B6%7D%20.ipynb\" target=\"_parent\"><img src=\"https://colab.research.google.com/assets/colab-badge.svg\" alt=\"Open In Colab\"/></a>"
      ]
    },
    {
      "cell_type": "code",
      "metadata": {
        "id": "WvRzZdeEIBfE"
      },
      "source": [
        "def QuickSort(arr, p, r):\n",
        "    if p >= r:\n",
        "        return\n",
        "\n",
        "    i = partition(arr, p, r)\n",
        "    QuickSort(arr, p, i - 1)\n",
        "    QuickSort(arr, i + 1, r)\n",
        "\n",
        "print(QuickSort(arr, 0, len(arr) - 1))\n"
      ],
      "execution_count": null,
      "outputs": []
    },
    {
      "cell_type": "code",
      "metadata": {
        "id": "dfR_K3yw16jL"
      },
      "source": [
        "def sum(numbers):              \n",
        "  total = 0                  \n",
        "for x in numbers:     \t\n",
        "      total += x     \t\t\n",
        "      return total\n",
        "if total == 0\n",
        "    print(\"true\")\n",
        "    elif total < 0 or total > 0\n",
        "    print(\"false\")\n",
        "print(suma)\n",
        "\n"
      ],
      "execution_count": null,
      "outputs": []
    },
    {
      "cell_type": "code",
      "metadata": {
        "id": "eMBBwKvX35SO"
      },
      "source": [
        "slo = {1: \"Anna\", 2: \"Mateusz\", 3: \"Jan\", 4: \"Janusz\", 5: \"Kamila\", 6: \"Marta\", 7: \"Ala\", 8:\"Marek\", 9:\"Filip\", 10:\"Eliza\" }\n",
        "print(slo.copy())\n",
        "print(slo.get(4))\n",
        "print(slo.items())\n",
        "print(slo.keys())\n",
        "print(slo.pop(3))\n",
        "print(slo)\n",
        "print(slo.pop(3, 0))\n",
        "print(slo.popitem())\n",
        "print(slo.setdefault(3,\"Ola\"))\n",
        "print(slo.setdefault(7,5))\n",
        "print(slo.values())"
      ],
      "execution_count": null,
      "outputs": []
    },
    {
      "cell_type": "code",
      "metadata": {
        "id": "eVtZ2_--KECA"
      },
      "source": [
        "import merge\n",
        "def MergeSort(lst):\n",
        "    if len(lst) < 2:\n",
        "        return lst\n",
        "\n",
        "    n = len(lst) // 2\n",
        "    left = lst[:n]\n",
        "    right = lst[n:]\n",
        "    return merge(MergeSort(left), MergeSort(right))\n",
        "print(MergeSort(lst))"
      ],
      "execution_count": null,
      "outputs": []
    }
  ]
}
