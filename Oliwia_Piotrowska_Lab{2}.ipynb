{
  "nbformat": 4,
  "nbformat_minor": 0,
  "metadata": {
    "colab": {
      "name": "Untitled0.ipynb",
      "provenance": [],
      "collapsed_sections": [],
      "include_colab_link": true
    },
    "kernelspec": {
      "name": "python3",
      "display_name": "Python 3"
    },
    "language_info": {
      "name": "python"
    }
  },
  "cells": [
    {
      "cell_type": "markdown",
      "metadata": {
        "id": "view-in-github",
        "colab_type": "text"
      },
      "source": [
        "<a href=\"https://colab.research.google.com/github/piotrowskaoliwia/Zadania-Domowe/blob/main/Oliwia_Piotrowska_Lab%7B2%7D.ipynb\" target=\"_parent\"><img src=\"https://colab.research.google.com/assets/colab-badge.svg\" alt=\"Open In Colab\"/></a>"
      ]
    },
    {
      "cell_type": "code",
      "metadata": {
        "id": "pJkx5Tczm_Td"
      },
      "source": [
        "#Zadanie1\n",
        "a = int(input('podaj parametu a: '))\n",
        "b = int(input('podaj parametr b: '))\n",
        "c = int(input('podaj parametr c: '))\n",
        "delta = b**2-4*a*c\n",
        "if delta > 0:\n",
        "    x1 = (-b-delta**(1/2))/(2*a)\n",
        "    x2 = (-b+delta**(1/2))/(2*a)\n",
        "    print ('x1 = ', x1, ', x2= ', x2)\n",
        "elif delta == 0:\n",
        "    x0 = -b/(2*a)\n",
        "    print ('x0 = ', x0)\n",
        "else:\n",
        "     print('brak rozwiazań')\n"
      ],
      "execution_count": null,
      "outputs": []
    },
    {
      "cell_type": "markdown",
      "metadata": {
        "id": "pWso_SCAppPR"
      },
      "source": [
        "Zadanie 2.\n",
        "\n",
        "Pomsł1\n",
        "\n",
        "Wydaje mi się ze najbardziej optymalna strategia zagadywania rozwiązanie będzie wpisywanie liczy znajdującej się w środku naszych możliwości np. gdy mamy liczby od 1 do 40 to jako pierwsza wybieramy np. 20 bo środkowa liczba będzie 20,5. Po otrzymaniu komunikatu ze liczba jest za duża wybieramy środkową z przedziału 1-19 a gdy za mało to z 21-40 wiec np. środkowa z przedziału 1-19 to będzie. 10 jeżeli za mało bierzemy przedział 11-19 i liczbę 15 gdy za dużo to 1-9 i liczbę 5. Powtarzamy ten schemat dalej az dotrzemy do naszego rozwiązania. \n",
        "\n",
        "Pomysł2\n",
        "\n",
        "Drugim moim pomysłem jest w wypadku większych liczb np. od 1 do 80. Na początku zaczęłam bym sprawdzać po całych dziesiątkach zaczynając od 80 i idąc w dół. W pewnym momencie doszlibyśmy do sytuacji gdzie np. 60 to za dużo a 50 to za mało i tutaj zastosowałabym schemat z pomysłu pierwszego i sprawdziłabym 55 potem gdyby to było za dużo to np. 53 a gdyby za mało to 57. Powtarzamy ten schemat dalej az dotrzemy do naszego rozwiązania.\n"
      ]
    },
    {
      "cell_type": "markdown",
      "metadata": {
        "id": "riDskZMup_w9"
      },
      "source": [
        "Zadanie 3.\n",
        "\n",
        "W wersji pierwszej algorytmu Euklidesa dążymy do tego aby reszta z dzielenia była równa 0. W drugie wersji wykonujemy cały czas odejmowanie i powtarzamy je cały czas aż osiągniemy dwie takie same wartości przez co liczba operacji w niektórych przepadkach jest znacznie większa jak np. dla liczb 2 i 50. \n",
        "Pierwsza wersja: reszta z dzielenia 50 przez 2 daje nam 0 wiec wystarczy nam jedna operacja. \n",
        "Druga wersja: przy odejmowaniu 50-2=48, 48-2=46, 46-2=44 …. Aż do 2-2 będziemy mieli dużo więcej operacji, wiec czas tego też będzie dłuższy.\n"
      ]
    },
    {
      "cell_type": "code",
      "metadata": {
        "id": "ybnHvCMmnGF7"
      },
      "source": [
        "#Zadanie4\n",
        "\n",
        "odd = [bool(i % 2) for i in range(10)]\n",
        "numbers = [i for i in range(10)]\n",
        "for i in range(len(numbers)):\n",
        "    if odd[numbers[i%2]]:\n",
        "        numbers.pop()\n",
        "    else:\n",
        "        print(i)"
      ],
      "execution_count": null,
      "outputs": []
    },
    {
      "cell_type": "markdown",
      "metadata": {
        "id": "2sfVR-lFqG9n"
      },
      "source": [
        "Wydaje mi sie że chodziło tu aby wyświetlały nam sie liczby z zakresu od 0 do 10 podzielne przez 2 z usuniętym ostatnim elementem. Daltego w czwertym wierszu zamiast i potzrebujemi i%2, w piątym zamist i moze być puty nawias bądź (-1), oraz barkowało zakończenia pętli i wyświetlenia wyniku.\n"
      ]
    },
    {
      "cell_type": "code",
      "metadata": {
        "id": "B9iwXDAsnKTj"
      },
      "source": [
        "#Zadanie5\n",
        "print('Podaj liczbę:')\n",
        "def dzielniki(l):\n",
        "    for x in range(1, int(l/2) + 1): \n",
        "        if l % x == 0: \n",
        "            print(x)\n",
        "    print(l),\n",
        "d = dzielniki(int(input()))"
      ],
      "execution_count": null,
      "outputs": []
    },
    {
      "cell_type": "markdown",
      "metadata": {
        "id": "8DrH2OIJqNuf"
      },
      "source": [
        "Tutaj miałam problem z zsumowaniem dzielników "
      ]
    }
  ]
}