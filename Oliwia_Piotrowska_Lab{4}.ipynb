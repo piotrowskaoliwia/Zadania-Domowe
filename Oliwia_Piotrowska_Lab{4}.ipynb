{
  "nbformat": 4,
  "nbformat_minor": 0,
  "metadata": {
    "colab": {
      "name": "Witamy w Colaboratory",
      "provenance": [],
      "collapsed_sections": [],
      "toc_visible": true,
      "include_colab_link": true
    },
    "kernelspec": {
      "display_name": "Python 3",
      "name": "python3"
    }
  },
  "cells": [
    {
      "cell_type": "markdown",
      "metadata": {
        "id": "view-in-github",
        "colab_type": "text"
      },
      "source": [
        "<a href=\"https://colab.research.google.com/github/piotrowskaoliwia/Zadania-Domowe/blob/main/Oliwia_Piotrowska_Lab%7B4%7D.ipynb\" target=\"_parent\"><img src=\"https://colab.research.google.com/assets/colab-badge.svg\" alt=\"Open In Colab\"/></a>"
      ]
    },
    {
      "cell_type": "code",
      "metadata": {
        "id": "h1X-soEdxl-o"
      },
      "source": [
        "def substr(string):\n",
        "    count = 0\n",
        "    x = 'abc'\n",
        "    for x in string: \n",
        "        count += 1\n",
        "    return count\n",
        "substr('abc hdhag abc jdor')\n",
        "print(substr.count('abc'))"
      ],
      "execution_count": null,
      "outputs": []
    },
    {
      "cell_type": "code",
      "metadata": {
        "id": "Qx6YqedCxzZC"
      },
      "source": [
        "arr = [3, 5, 6, 2, 9, 6, 0, 1]\n",
        "def before_last(arr):\n",
        "    for i in range(1, len(arr)):\n",
        "        key = arr[i]\n",
        "        j = i-1\n",
        "        while j >= 0 and key < arr[j] :\n",
        "                arr[j + 1] = arr[j]\n",
        "                j -= 1\n",
        "        arr[j + 1] = key\n",
        "before_last(arr)\n",
        "print(arr[-2])"
      ],
      "execution_count": null,
      "outputs": []
    },
    {
      "cell_type": "code",
      "metadata": {
        "id": "pVvvdSjbxzkk"
      },
      "source": [
        "def potega(a, b): \n",
        "    if b == 0: \n",
        "        return 1\n",
        "    else: \n",
        "n = int(input())\n",
        "print(potega(n, n))"
      ],
      "execution_count": null,
      "outputs": []
    },
    {
      "cell_type": "code",
      "metadata": {
        "id": "H4uguO6dxzsz"
      },
      "source": [
        "def potega(n):\n",
        "    temp = n\n",
        "    for i in range(1, n):\n",
        "        temp = n * temp\n",
        "    return temp\n",
        "n = int(input())\n",
        "print (potega(n))"
      ],
      "execution_count": null,
      "outputs": []
    }
  ]
}