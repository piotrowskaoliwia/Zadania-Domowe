{
  "nbformat": 4,
  "nbformat_minor": 0,
  "metadata": {
    "colab": {
      "name": "Untitled1.ipynb",
      "provenance": [],
      "authorship_tag": "ABX9TyO0P4wTPJAkVUjIuRmLvrSo",
      "include_colab_link": true
    },
    "kernelspec": {
      "name": "python3",
      "display_name": "Python 3"
    },
    "language_info": {
      "name": "python"
    }
  },
  "cells": [
    {
      "cell_type": "markdown",
      "metadata": {
        "id": "view-in-github",
        "colab_type": "text"
      },
      "source": [
        "<a href=\"https://colab.research.google.com/github/piotrowskaoliwia/Zadania-Domowe/blob/main/Oliwia_Piotrowska_Lab%20%7B2%7D.ipynb\" target=\"_parent\"><img src=\"https://colab.research.google.com/assets/colab-badge.svg\" alt=\"Open In Colab\"/></a>"
      ]
    },
    {
      "cell_type": "code",
      "metadata": {
        "id": "qAozabPlBQEP"
      },
      "source": [
        "def multiplication(n):\n",
        "    if n == 0:\n",
        "        return 0\n",
        "    c = 0\n",
        "    for i in range(1, n):\n",
        "        if n > 0:\n",
        "            c = n*3\n",
        "    return c\n",
        "q = int(input('Podaj liczbę:'))\n",
        "print(multiplication(q))"
      ],
      "execution_count": null,
      "outputs": []
    },
    {
      "cell_type": "code",
      "metadata": {
        "id": "pjFT_0X7BTdw"
      },
      "source": [
        "def find_median(list_):\n",
        " \n",
        "\tlist_.sort(key=float) #sortuje rosnąco\n",
        "\tlist_=[float(i) for i in list_] # zamieniam str na float\n",
        "\ttab,l=[],len(list_)\n",
        "\td=l//2 # int\n",
        "\t\n",
        "\tif l%2:     \n",
        "\t\ttab+=[list_[d]]\n",
        "\telse:\n",
        "\t\ttab+=[(list_[d-1]+list_[d])/2]\n",
        "\t\treturn tab\n",
        " \n",
        "x = list(input('Podaj listę wyrazów ').split())\n",
        "print(find_median(x))"
      ],
      "execution_count": null,
      "outputs": []
    },
    {
      "cell_type": "code",
      "metadata": {
        "id": "oVsSnE1SBb37"
      },
      "source": [
        "def insertionSort(arr):\n",
        "     for i in range(1, len(arr)):\n",
        "        key = arr[i]\n",
        "        j = i-1\n",
        "        while j >= 0 and key > arr[j] :\n",
        "                arr[j + 1] = arr[j]\n",
        "                j -= 1\n",
        "        arr[j + 1] = key\n",
        "arr = [12, 11, 13, 5, 6]\n",
        "insertionSort(arr)\n",
        "print(arr)\n"
      ],
      "execution_count": null,
      "outputs": []
    },
    {
      "cell_type": "code",
      "metadata": {
        "id": "M4fNbLSNDdXD"
      },
      "source": [
        "l = list(input('Podaj listę wyrazów ').split())\n",
        "c = int(input('Liczba przesunięć:'))\n",
        "def rotation(L, d):\n",
        "      L[:] =  L[d:] + L[:d]\n",
        "rotation(l, c)\n",
        "print (l)"
      ],
      "execution_count": null,
      "outputs": []
    },
    {
      "cell_type": "code",
      "metadata": {
        "id": "ZynqQ0BIDmR8"
      },
      "source": [
        "x = int(input('Podaj liczbę:'))\n",
        "def sum_natural(n):\n",
        "    s=n*(n+1)//2\n",
        "    return s\n",
        "print (sum_natural(x))"
      ],
      "execution_count": null,
      "outputs": []
    }
  ]
}