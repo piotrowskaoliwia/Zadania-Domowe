{
  "nbformat": 4,
  "nbformat_minor": 0,
  "metadata": {
    "colab": {
      "name": "Kolokwium.ipynb",
      "provenance": [],
      "collapsed_sections": [
        "yU15h1KvF_P8",
        "GVH2TktEGH01"
      ],
      "include_colab_link": true
    },
    "kernelspec": {
      "name": "python3",
      "display_name": "Python 3"
    },
    "language_info": {
      "name": "python"
    }
  },
  "cells": [
    {
      "cell_type": "markdown",
      "metadata": {
        "id": "view-in-github",
        "colab_type": "text"
      },
      "source": [
        "<a href=\"https://colab.research.google.com/github/piotrowskaoliwia/Zadania-Domowe/blob/main/Kolokwium.ipynb\" target=\"_parent\"><img src=\"https://colab.research.google.com/assets/colab-badge.svg\" alt=\"Open In Colab\"/></a>"
      ]
    },
    {
      "cell_type": "markdown",
      "metadata": {
        "id": "TjiTHsWqXzHQ"
      },
      "source": [
        "# Zasady:\n",
        "- W przypadku zadań otwartych proszę umieścić kod w odpowiednich komórkach pod zadaniem (taka sama nazwa funkcji i argumentów).\n",
        "- W zadaniach otwartych robią Państwo to co jest wymagane w zadaniu, nie można używać printów ani dopisywać komórek, notebook pozostaje nienaruszony oprócz tych komórek, gdzie są Państwo proszeni o napisanie kodu. Aczkolwiek komentarze są mile widziane i mogą podnieść punktację rozwiązania konkretnego zadania.\n",
        "- Można oczywiście po napisaniu jakieś funkcji testować swój kod, ale w momencie oddania muszą go Państwo oddać w formie takiej jakiej dostali, oczywiście po dopisaniu rozwiązań.\n",
        "- Do rozwiązania zadań zamkniętych służą odpowiednie komórki znajdujące się pod zadaniem.\n",
        "- W zadaniach zamkniętych wielokrotnego wyboru odpowiedź jest zawsze prawdziwa lub fałszywa, nie mogą tu Państwo rozpatrywać żadnych przypadków.\n",
        "- W zadaniach nie wolno używać funkcji z biblioteki standardowej pythona, np. max(), min() czy sum()\n",
        "- Oczywiście występuje całkowity zakaz ściągania, Państwa kod i odpowiedzi będą oceniane również pod kątem pracy indywidualnej."
      ]
    },
    {
      "cell_type": "markdown",
      "metadata": {
        "id": "yU15h1KvF_P8"
      },
      "source": [
        "# Zadania Otwarte"
      ]
    },
    {
      "cell_type": "markdown",
      "metadata": {
        "id": "DyCwGNl6KfyG"
      },
      "source": [
        "1) Zaimplementuj funkcję, która dla dwóch list L1, L2 zwraca listę L będącą produktem dwóch list, to znaczy element nazwijmy go $a$ ze zwróconej listy L jest produktem elementów z podanych dwóch list L1, L2, to znaczy $a = b \\cdot c$, gdzie $b$ to element listy L1, a $c$ to element listy L2. W przypadku, gdy podane listy mają różne długości należy użyć 1 jako brakujący element (wyjaśnienie poniżej). <br>\n",
        "Przykładowe wyniki: <br>\n",
        "- Na przykład dla L1 = [2,2,3,2] oraz L2=[7,5,6,7] funkcja powinna zwrócić [14, 10, 18, 14]. <br>\n",
        "- Na przykład dla L1 = [2,2,3] oraz L2=[7,5,6,7] funkcja pow\n",
        "inna zwrócić [14, 10, 18, 7]. <br>\n",
        "\n",
        "\n",
        "Wymagania: <br>\n",
        "- Funkcja powinna działać w czasie $O(n + m)$, gdzie $n$ to rozmiar L1 oraz $m$ to rozmiar L2\n",
        "- Funkcja nie może modyfikować danych wejściowych (L1 i L2 nie mogą zostać naruszone)\n",
        "- Złożoność pamięciowa powinna wynosić $O(n + m)$, gdzie $n$ to rozmiar L1 oraz $m$ to rozmiar L2\n",
        "\n"
      ]
    },
    {
      "cell_type": "code",
      "metadata": {
        "id": "iA8z1vvmGAbU"
      },
      "source": [
        "def f(L1, L2):\n",
        "  if len(L) == len(P):\n",
        "    return \n",
        "    for i in range(len(L)):\n",
        "      wynik.append(L[i]*P[i])\n",
        "  if len(L) < len(P):\n",
        "    return\n",
        "    for i in range(len(L)):\n",
        "        wynik.append(L[i]*P[i] + P[(len(P))-1]*1) \n",
        "        else:\n",
        "          len(L) > len(P)\n",
        "          return\n",
        "          for i in range(len(P)):\n",
        "              wynik.append(L[i]*P[i] + L[(len(L))-1]*1)\n",
        "    pass "
      ],
      "execution_count": null,
      "outputs": []
    },
    {
      "cell_type": "markdown",
      "metadata": {
        "id": "WZpC1_d7L82w"
      },
      "source": [
        "2) Napisz funkcję, której argumentem $t$ jest krotka lub lista i, która zwraca maksymalny element z $t$. Elementami $t$ może być liczba całkowita lub krotka lub lista. W przypadku krotki lub listy (krotka lub lista nigdy nie jest pusta) funkcja powinna odwoływać się rekurencyjnie do samej siebie w celu znalezienia maksymalnego elementu. <br>\n",
        "Przykładowy wynik:\n",
        "- Na przykład gdy t = [1, 2, [5, 0], [1,2,3], 8, [10, [12, 1], 5]] funkcja powinna zwrócić 12. <br>\n",
        "\n",
        "Wymagania:\n",
        "- Funkcja powinna być rekurencyjna, gdy elementem $t$ jest krotka lub lista\n",
        "- Funkcja nie może modyfikować danych wejściowych (t pozostaje nienaruszone)\n",
        "- Złożoność pamięciowa powinna wynosić $O(1)$"
      ]
    },
    {
      "cell_type": "code",
      "metadata": {
        "id": "UgHtXk9SQiIz"
      },
      "source": [
        "def max_val(t):\n",
        "  v=t[0]\n",
        "  for i in t:\n",
        "    if i>v:\n",
        "      v=i\n",
        "  return v\n",
        "    pass"
      ],
      "execution_count": null,
      "outputs": []
    },
    {
      "cell_type": "markdown",
      "metadata": {
        "id": "2LGEEDMiWSMt"
      },
      "source": [
        "3) Napisz funkcję, której argumentem jest lista, której pierwsza połowa i druga połowa są posortowane. Funkcja powinna zwracać posortowaną listę poprzez zastosowanie procedury Merge znanej z sortowania przez scalanie. <br>\n",
        "Przykładowe wyniki: <br>\n",
        "- Na przykład dla arr = [2, 3, 8, -1, 7, 10] funkcja powinna zwrócić [-1, 2, 3, 7, 8, 10].\n",
        "- Na przykład dla arr = [-4, 6, 9, -1, 3] funkcja powinna zwrócić [-4, -1, 3, 6, 9].\n",
        "\n",
        "Wymagania:\n",
        "- W funkcji powinno zastosować się procedurę Merge znanej z sortowania przez scalanie, nie wolno używać normalnego sortowania.\n",
        "- Procedura Merge powinna być zaimplementowana jako oddzielna funkcja\n",
        "- Funkcja nie może modyfikować danych wejściowych (arr pozostaje nienaruszona)"
      ]
    },
    {
      "cell_type": "code",
      "metadata": {
        "id": "pGE2Ad_OW5N8"
      },
      "source": [
        "def Marge(arr, p, q)\n",
        "  def Merge_Half(arr):\n",
        "    if len(arr) <= 1:\n",
        "        return arr\n",
        "      mid = len(arr)//2\n",
        "      L=arr[:mid]\n",
        "      R=arr[mid:]\n",
        "      Magre_Half(L)\n",
        "      Marge_Half(P)\n",
        "      i=j=v=0\n",
        "    while i<len(L) and j < len(R)\n",
        "      if L[i]<R[j]:\n",
        "        arr[v]=L[i]\n",
        "        i+=1\n",
        "      else:\n",
        "        arr[v]=R[j]\n",
        "        j+=1\n",
        "        v+=1\n",
        "      while i<len(L)\n",
        "        arr[v]=L[i]\n",
        "        i+=1\n",
        "        v+=1\n",
        "      while j<len(R)\n",
        "        arr[k]=R[j]\n",
        "        j+=1\n",
        "        k+=1\n",
        "return arr\n",
        "return Marge(arr[p:q + 1])\n"
      ],
      "execution_count": null,
      "outputs": []
    },
    {
      "cell_type": "markdown",
      "metadata": {
        "id": "GVH2TktEGH01"
      },
      "source": [
        "# Zadania zamknięte"
      ]
    },
    {
      "cell_type": "markdown",
      "metadata": {
        "id": "MQsxzV8JGRGB"
      },
      "source": [
        "1) Wyjaśnij szczegółowo dlaczego poniższy kod, który z matematycznego punktu widzenia jest poprawny zwraca taki wynik"
      ]
    },
    {
      "cell_type": "code",
      "metadata": {
        "colab": {
          "base_uri": "https://localhost:8080/"
        },
        "id": "63HEdbrlGJJW",
        "outputId": "a32a844f-4a92-4805-c163-665cabf0ff5c"
      },
      "source": [
        "import math\n",
        "print(math.sqrt(2) * math.sqrt(2) == 2)"
      ],
      "execution_count": null,
      "outputs": [
        {
          "output_type": "stream",
          "text": [
            "False\n"
          ],
          "name": "stdout"
        }
      ]
    },
    {
      "cell_type": "markdown",
      "metadata": {
        "id": "zUUmUPwgYoFK"
      },
      "source": [
        "Wyjaśnienie: Ponieważ kod \"math.sqrt(2)\" zwróci nam przyblizona wartość np. 1, 41. Więc \"math.sqrt(2) * math.sqrt(2)\" wymnożny nam wartości 1,41 * 1,41 co nie da wyniku 2."
      ]
    },
    {
      "cell_type": "markdown",
      "metadata": {
        "id": "PsPGGg7gGi0i"
      },
      "source": [
        "2) Zaznacz poprawne odpowiedzi dotyczące poniższej funkcji f: <br>\n",
        "A) Funkcja f jest rekurencyjna <br>\n",
        "B) Wywołanie funkcji f dla liczb, które mają w zapisie dwójkowym taką samą liczbę jedynek i zer daje taki sam rezultat <br>\n",
        "C) Funkcja f nie wykona się, gdy n jest stringiem <br>\n",
        "D) Wywołanie f(1111) dokonuje 1111 wywołań rekurencyjnych <br>\n",
        "E) Złożoność pamięciowa w tym algorytmie to $O(1)$"
      ]
    },
    {
      "cell_type": "code",
      "metadata": {
        "id": "lSAaX6CxGb2G"
      },
      "source": [
        "def f(n):\n",
        "    s = str(n)\n",
        "    if len(s) <= 1:\n",
        "        return s\n",
        "    return s[-1] + f(int(s[:-1]))"
      ],
      "execution_count": null,
      "outputs": []
    },
    {
      "cell_type": "markdown",
      "metadata": {
        "id": "uqzybmUkYrXH"
      },
      "source": [
        "Poprawne odpowiedzi: E,A,D"
      ]
    },
    {
      "cell_type": "markdown",
      "metadata": {
        "id": "6V6QpDokJ77e"
      },
      "source": [
        "3) Zaznacz poprawne odpowiedzi dotyczące poniższej funkcji comp: <br>\n",
        "A) Funkcja comp zawsze zwraca liczbę niedodatnią <br>\n",
        "B) Funkcja comp zawsze zwraca liczbę nieujemną <br>\n",
        "C) Złożoność obliczeniowa funkcji comp to $O(n^{2})$ <br>\n",
        "D) Funkcja comp działa poprawnie tylko dla stringów <br>\n",
        "E) Wypełnij poniższy zakomentowany assert tak, aby działał zgodnie z zaimplementowaną funkcją comp (nie wolno tu się odwoływać do samej funkcji comp)"
      ]
    },
    {
      "cell_type": "code",
      "metadata": {
        "id": "LyYGnyNAMxvv"
      },
      "source": [
        "def comp(s):\n",
        "    res = 0\n",
        "    for c1 in s:\n",
        "        res += 2\n",
        "        for c2 in s:\n",
        "            res -= 1\n",
        "    return res\n",
        "s = 'INFORMATYKA'\n",
        "assert type(s) == str\n",
        "# assert comp(s) == ?"
      ],
      "execution_count": null,
      "outputs": []
    },
    {
      "cell_type": "markdown",
      "metadata": {
        "id": "9jgX5T3aYuaX"
      },
      "source": [
        "Poprawne odpowiedzi: B,"
      ]
    },
    {
      "cell_type": "markdown",
      "metadata": {
        "id": "F68IaVvCYxJC"
      },
      "source": [
        "4) Opisz problem sortowania słownika w Pythonie. Jak podejdziesz do tego problemu i na co zwrócisz uwagę."
      ]
    },
    {
      "cell_type": "markdown",
      "metadata": {
        "id": "pxdfmLfOe96m"
      },
      "source": [
        "Wyjaśnienie: Słowniki w pythonie są sortowane po niezmiennym kluczlu, "
      ]
    },
    {
      "cell_type": "markdown",
      "metadata": {
        "id": "Azn4h1G4fBoW"
      },
      "source": [
        "5) Zaznacz poprawne odpowiedzi dotyczące poniższej funkcji sort_: <br>\n",
        "A) Optymistyczny czas działania poniższego algorytmu wynosi $\\Omega(n^{2})$ gdzie $n$ jest długością listy arr <br>\n",
        "B) Wywołanie sort_([1, 2, 5, 0]) zwraca [0, 1, 2, 5] <br>\n",
        "C) Średni czas działania poniższego algorytmu wynosi $\\Theta(nlogn)$ gdzie $n$ jest długością listy arr <br>\n",
        "D) Algorytm ten również będzie działał poprawnie w przypadku gdy arr jest krotką <br>\n",
        "E) Złożoność pamięciowa w tym programie wynosi $O(1)$"
      ]
    },
    {
      "cell_type": "code",
      "metadata": {
        "id": "x32n_Ltbfgl8"
      },
      "source": [
        "def sort_(arr):\n",
        "    n = len(arr)\n",
        "    for i in range(n):\n",
        "        t = 1\n",
        "        for j in range(n-i-1):\n",
        "            if arr[j] > arr[j+1]:\n",
        "                t = 0\n",
        "                temp = arr[j]\n",
        "                arr[j] = arr[j + 1]\n",
        "                arr[j + 1] = temp\n",
        "        if t == 1:\n",
        "            return"
      ],
      "execution_count": null,
      "outputs": []
    },
    {
      "cell_type": "markdown",
      "metadata": {
        "id": "jyuL9k7whaJ0"
      },
      "source": [
        "Poprawne odpowiedzi: E,"
      ]
    }
  ]
}