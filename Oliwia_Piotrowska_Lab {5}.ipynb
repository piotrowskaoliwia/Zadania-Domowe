{
  "nbformat": 4,
  "nbformat_minor": 0,
  "metadata": {
    "colab": {
      "name": "Witamy w Colaboratory",
      "provenance": [],
      "collapsed_sections": [],
      "toc_visible": true,
      "include_colab_link": true
    },
    "kernelspec": {
      "display_name": "Python 3",
      "name": "python3"
    }
  },
  "cells": [
    {
      "cell_type": "markdown",
      "metadata": {
        "id": "view-in-github",
        "colab_type": "text"
      },
      "source": [
        "<a href=\"https://colab.research.google.com/github/piotrowskaoliwia/Zadania-Domowe/blob/main/Oliwia_Piotrowska_Lab%20%7B5%7D.ipynb\" target=\"_parent\"><img src=\"https://colab.research.google.com/assets/colab-badge.svg\" alt=\"Open In Colab\"/></a>"
      ]
    },
    {
      "cell_type": "code",
      "metadata": {
        "id": "zBU0wTzvYsjK"
      },
      "source": [
        "import numpy as np\n",
        "def transpose(A):\n",
        "   m, n = A.shape\n",
        "   B = np.empty([n,m])\n",
        "\n",
        "   for i in range(0,n):\n",
        "      for j in range(0,m):\n",
        "         B[i][j]=A[j][i]\n",
        "   return B\n",
        "\n",
        "m = np.random.randint(1,10)\n",
        "n = np.random.randint(1,10)\n",
        "\n",
        "X = np.random.randint(0,10,(m,n))\n",
        "\n",
        "Y = transpose(X)\n",
        "print (X)\n",
        "print (Y)"
      ],
      "execution_count": null,
      "outputs": []
    }
  ]
}