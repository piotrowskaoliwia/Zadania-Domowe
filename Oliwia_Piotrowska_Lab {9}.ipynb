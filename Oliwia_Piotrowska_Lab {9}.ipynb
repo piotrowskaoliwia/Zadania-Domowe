{
  "nbformat": 4,
  "nbformat_minor": 0,
  "metadata": {
    "colab": {
      "name": "Witamy w Colaboratory",
      "provenance": [],
      "collapsed_sections": [],
      "toc_visible": true,
      "include_colab_link": true
    },
    "kernelspec": {
      "display_name": "Python 3",
      "name": "python3"
    }
  },
  "cells": [
    {
      "cell_type": "markdown",
      "metadata": {
        "id": "view-in-github",
        "colab_type": "text"
      },
      "source": [
        "<a href=\"https://colab.research.google.com/github/piotrowskaoliwia/Zadania-Domowe/blob/main/Oliwia_Piotrowska_Lab%20%7B9%7D.ipynb\" target=\"_parent\"><img src=\"https://colab.research.google.com/assets/colab-badge.svg\" alt=\"Open In Colab\"/></a>"
      ]
    },
    {
      "cell_type": "code",
      "metadata": {
        "id": "B_nmhMrdYfTz"
      },
      "source": [
        "def median_modification(arr, n):\n",
        "    if n % 2:\n",
        "        return arr[n//2]\n",
        "    else:\n",
        "        return 1/(arr[n//2] + arr[n//2 - 1])/2"
      ],
      "execution_count": 3,
      "outputs": []
    },
    {
      "cell_type": "code",
      "metadata": {
        "colab": {
          "base_uri": "https://localhost:8080/"
        },
        "id": "C5_l3UeQZ0k9",
        "outputId": "55e58d8c-0676-4c3a-a2cc-06901290ba45"
      },
      "source": [
        "def divisible_3(n):\n",
        "  if n == 0:\n",
        "    return 'NIE'\n",
        "  if n == 1:\n",
        "    return 'NIE'\n",
        "  if n == 2:\n",
        "    return 'NIE'\n",
        "  else:\n",
        "    for i in range(n):\n",
        "        n -= 3 \n",
        "        if n == 0:          \n",
        "            return 'TAK'\n",
        "        else:\n",
        "          return 'NIE'\n",
        "print(divisible_3(3))\n"
      ],
      "execution_count": 26,
      "outputs": [
        {
          "output_type": "stream",
          "text": [
            "TAK\n"
          ],
          "name": "stdout"
        }
      ]
    }
  ]
}