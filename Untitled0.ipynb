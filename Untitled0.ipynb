{
  "nbformat": 4,
  "nbformat_minor": 0,
  "metadata": {
    "colab": {
      "name": "Untitled0.ipynb",
      "provenance": [],
      "collapsed_sections": [],
      "authorship_tag": "ABX9TyM/6ziLWoLcknn1wjYk2pWw",
      "include_colab_link": true
    },
    "kernelspec": {
      "name": "python3",
      "display_name": "Python 3"
    },
    "language_info": {
      "name": "python"
    }
  },
  "cells": [
    {
      "cell_type": "markdown",
      "metadata": {
        "id": "view-in-github",
        "colab_type": "text"
      },
      "source": [
        "<a href=\"https://colab.research.google.com/github/piotrowskaoliwia/Zadania-Domowe/blob/main/Untitled0.ipynb\" target=\"_parent\"><img src=\"https://colab.research.google.com/assets/colab-badge.svg\" alt=\"Open In Colab\"/></a>"
      ]
    },
    {
      "cell_type": "code",
      "metadata": {
        "id": "pJkx5Tczm_Td"
      },
      "source": [
        "#Zadanie1\n",
        "a = int(input('podaj parametu a: '))\n",
        "b = int(input('podaj parametr b: '))\n",
        "c = int(input('podaj parametr c: '))\n",
        "delta = b**2-4*a*c\n",
        "if delta > 0:\n",
        "    x1 = (-b-delta**(1/2))/(2*a)\n",
        "    x2 = (-b+delta**(1/2))/(2*a)\n",
        "    print ('x1 = ', x1, ', x2= ', x2)\n",
        "elif delta == 0:\n",
        "    x0 = -b/(2*a)\n",
        "    print ('x0 = ', x0)\n",
        "else:\n",
        "     print('brak rozwiazań')\n"
      ],
      "execution_count": null,
      "outputs": []
    },
    {
      "cell_type": "code",
      "metadata": {
        "id": "ybnHvCMmnGF7"
      },
      "source": [
        "#Zadanie4\n",
        "\n",
        "odd = [bool(i % 2) for i in range(10)]\n",
        "numbers = [i for i in range(10)]\n",
        "for i in range(len(numbers)):\n",
        "    if odd[numbers[i%2]]:\n",
        "        numbers.pop()\n",
        "    else:\n",
        "        print(i)"
      ],
      "execution_count": null,
      "outputs": []
    },
    {
      "cell_type": "code",
      "metadata": {
        "id": "B9iwXDAsnKTj"
      },
      "source": [
        "#Zadanie5\n",
        "print('Podaj liczbę:')\n",
        "def dzielniki(l):\n",
        "    for x in range(1, int(l/2) + 1): \n",
        "        if l % x == 0: \n",
        "            print(x)\n",
        "    print(l),\n",
        "d = dzielniki(int(input()))"
      ],
      "execution_count": null,
      "outputs": []
    }
  ]
}